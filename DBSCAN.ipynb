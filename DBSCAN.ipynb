{
  "nbformat": 4,
  "nbformat_minor": 0,
  "metadata": {
    "colab": {
      "name": "DBSCAN.ipynb",
      "provenance": [],
      "collapsed_sections": [],
      "include_colab_link": true
    },
    "kernelspec": {
      "name": "python3",
      "display_name": "Python 3"
    },
    "language_info": {
      "name": "python"
    }
  },
  "cells": [
    {
      "cell_type": "markdown",
      "metadata": {
        "id": "view-in-github",
        "colab_type": "text"
      },
      "source": [
        "<a href=\"https://colab.research.google.com/github/EmanSalah2000/DBSCAN/blob/main/DBSCAN.ipynb\" target=\"_parent\"><img src=\"https://colab.research.google.com/assets/colab-badge.svg\" alt=\"Open In Colab\"/></a>"
      ]
    },
    {
      "cell_type": "code",
      "source": [
        "import pandas as pd\n",
        "from scipy.spatial import distance\n",
        "import numpy as np\n",
        "import queue\n",
        "import matplotlib.pyplot as plt\n",
        "from sklearn.decomposition import PCA\n",
        "from sklearn.cluster import DBSCAN\n",
        "from sklearn.preprocessing import StandardScaler"
      ],
      "metadata": {
        "id": "h7RiJTIdyR6e"
      },
      "execution_count": null,
      "outputs": []
    },
    {
      "cell_type": "code",
      "source": [
        "def visualize(data, cluster, numberOfClusters):\n",
        "    colors = np.array(['blue', 'green', 'brown', 'black', 'purple', 'orange', 'yellow'])\n",
        "    plt.figure()\n",
        "    for i in range(-1, numberOfClusters):\n",
        "        if i == -1:\n",
        "            color = 'red'\n",
        "        else:\n",
        "            color = colors[i % len(colors)]\n",
        "        x, y = [], []\n",
        "        for j in range(len(data)):\n",
        "            if cluster[j] == i:\n",
        "                x.append(data.iloc[j, 0])\n",
        "                y.append(data.iloc[j, 1])\n",
        "        if len(x) > 7:\n",
        "            plt.scatter(x[0:7], y[0:7], c=color, alpha=1)\n",
        "        else:\n",
        "            plt.scatter(x, y, c=color, alpha=1)\n",
        "    plt.show()"
      ],
      "metadata": {
        "id": "ZiDnySk-z4OA"
      },
      "execution_count": null,
      "outputs": []
    },
    {
      "cell_type": "code",
      "source": [
        "class DBSCAN_class():\n",
        "    def __init__(self):\n",
        "        self.noise = -1\n",
        "        self.core = -2\n",
        "        self.border = -3\n",
        "\n",
        "    def create_distance_matrix(self, data_set):\n",
        "        distance_matrix = np.zeros((data_set.shape[0], data_set.shape[0]))\n",
        "        for i in range(data_set.shape[0]):\n",
        "            for j in range(i):\n",
        "                distance_matrix[i][j] = distance.euclidean(data_set.iloc[i], data_set.iloc[j])\n",
        "                distance_matrix[j][i] = distance_matrix[i][j]\n",
        "        print(\"Distance Matrix Shape: \", distance_matrix.shape)\n",
        "        return distance_matrix\n",
        "\n",
        "    def get_neighbours(self, distance_matrix, epsilon):\n",
        "        neighbours = []\n",
        "        for i in range(distance_matrix.shape[0]):\n",
        "            point_neighbours = []\n",
        "            for j in range(distance_matrix.shape[1]):\n",
        "                if distance_matrix[j][i] <= epsilon:\n",
        "                    point_neighbours.append(j)\n",
        "            neighbours.append(point_neighbours)\n",
        "        neighbours = np.array(neighbours)\n",
        "        return neighbours\n",
        "\n",
        "    def DBSCAN_algorithm(self, data_set, epsilon, minPts):\n",
        "        point_label = [-1] * len(data_set)\n",
        "        core_points = []\n",
        "        noncore = []\n",
        "        distance_matrix = self.create_distance_matrix(data_set)\n",
        "        neighbours_matrix = self.get_neighbours(distance_matrix, epsilon)\n",
        "        for i in range(len(neighbours_matrix)):\n",
        "            if len(neighbours_matrix[i]) >= minPts:\n",
        "                point_label[i] = self.core\n",
        "                core_points.append(i)\n",
        "            else:\n",
        "                noncore.append(i)\n",
        "        for i in noncore:\n",
        "            for j in neighbours_matrix[i]:\n",
        "                if j in core_points:\n",
        "                    point_label[i] = self.border\n",
        "                    break\n",
        "        cluster = 0\n",
        "        for i in range(len(point_label)):\n",
        "            q = queue.Queue()\n",
        "            if point_label[i] == self.core:\n",
        "                point_label[i] = cluster\n",
        "                for x in neighbours_matrix[i]:\n",
        "                    if point_label[x] == self.core:\n",
        "                        q.put(x)\n",
        "                        point_label[x] = cluster\n",
        "                    elif point_label[x] == self.border:\n",
        "                        point_label[x] = cluster\n",
        "                while not q.empty():\n",
        "                    neighbors = neighbours_matrix[q.get()]\n",
        "                    for y in neighbors:\n",
        "                        if point_label[y] == self.core:\n",
        "                            point_label[y] = cluster\n",
        "                            q.put(y)\n",
        "                        if point_label[y] == self.border:\n",
        "                            point_label[y] = cluster\n",
        "                cluster += 1\n",
        "        return point_label, cluster"
      ],
      "metadata": {
        "id": "M6koeVyCKEBY"
      },
      "execution_count": null,
      "outputs": []
    },
    {
      "cell_type": "code",
      "source": [
        "data_set = pd.read_csv(\"/content/emails.csv\")\n",
        "data = pd.DataFrame(data_set.iloc[:, 1:data_set.shape[1] - 1])\n",
        "# data = pd.DataFrame(data.iloc[4700:len(data), :])\n",
        "# data = pd.DataFrame([(0, 0), (1, 0), (1, 1), (2, 2), (3, 1), (3, 0), (0, 1), (3, 2), (6, 3)])\n",
        "# print(data.head())\n",
        "print(\"Shape of All Data: \", data.shape)"
      ],
      "metadata": {
        "id": "oEolJKSRyR0i",
        "colab": {
          "base_uri": "https://localhost:8080/"
        },
        "outputId": "ed21c389-d9dd-4dba-b216-e9b8058cfde9"
      },
      "execution_count": null,
      "outputs": [
        {
          "output_type": "stream",
          "name": "stdout",
          "text": [
            "Shape of All Data:  (5172, 3000)\n"
          ]
        }
      ]
    },
    {
      "cell_type": "code",
      "source": [
        "X = StandardScaler().fit_transform(data)\n",
        "pca = PCA(n_components=2)\n",
        "transformed_data = pd.DataFrame(pca.fit_transform(X))\n",
        "print(\"Data Shape After PCA: \", transformed_data.shape)"
      ],
      "metadata": {
        "id": "OSf4Fc9g-nPp",
        "colab": {
          "base_uri": "https://localhost:8080/"
        },
        "outputId": "c4adbc77-d10b-494c-acca-404fb00df6f7"
      },
      "execution_count": null,
      "outputs": [
        {
          "output_type": "stream",
          "name": "stdout",
          "text": [
            "Data Shape After PCA:  (5172, 2)\n"
          ]
        }
      ]
    },
    {
      "cell_type": "code",
      "source": [
        "DBSCAN_class = DBSCAN_class()\n",
        "labels, clusters = DBSCAN_class.DBSCAN_algorithm(transformed_data, 3, 5)"
      ],
      "metadata": {
        "colab": {
          "base_uri": "https://localhost:8080/"
        },
        "id": "iJvnI_560N0w",
        "outputId": "cf6d2b65-b5eb-421a-ca87-553f7c4c223b"
      },
      "execution_count": null,
      "outputs": [
        {
          "output_type": "stream",
          "name": "stdout",
          "text": [
            "Distance Matrix Shape:  (5172, 5172)\n"
          ]
        },
        {
          "output_type": "stream",
          "name": "stderr",
          "text": [
            "/usr/local/lib/python3.7/dist-packages/ipykernel_launcher.py:24: VisibleDeprecationWarning: Creating an ndarray from ragged nested sequences (which is a list-or-tuple of lists-or-tuples-or ndarrays with different lengths or shapes) is deprecated. If you meant to do this, you must specify 'dtype=object' when creating the ndarray\n"
          ]
        }
      ]
    },
    {
      "cell_type": "code",
      "source": [
        "visualize(transformed_data, labels, clusters)"
      ],
      "metadata": {
        "colab": {
          "base_uri": "https://localhost:8080/",
          "height": 264
        },
        "id": "WdeympRw0gRU",
        "outputId": "b968a0e5-8846-471d-d110-d80af9cc028d"
      },
      "execution_count": null,
      "outputs": [
        {
          "output_type": "display_data",
          "data": {
            "image/png": "[encoded data removed]",
            "text/plain": [
              "<Figure size 432x288 with 1 Axes>"
            ]
          },
          "metadata": {
            "needs_background": "light"
          }
        }
      ]
    },
    {
      "cell_type": "code",
      "source": [
        "print(\"\\nNumber of all clusters: \", clusters)\n",
        "for c in range(-1, clusters):\n",
        "    counter = 0\n",
        "    if c == -1:\n",
        "        print(\"\\nNoise data are:\")\n",
        "    elif c == 0:\n",
        "        print(\"\\nNot Spam Emails are:\")\n",
        "    else:\n",
        "        print(\"\\nSpam Emails are:\")\n",
        "    for key, value in enumerate(labels):\n",
        "        if value == c:\n",
        "            # print(\"Email\", key + 1)\n",
        "            counter = counter + 1\n",
        "    print(\"number of points in this cluster: \", counter)"
      ],
      "metadata": {
        "id": "MKL14ub1_1ID",
        "colab": {
          "base_uri": "https://localhost:8080/"
        },
        "outputId": "4e039651-26d5-4cb4-c472-e4799d04d7c1"
      },
      "execution_count": null,
      "outputs": [
        {
          "output_type": "stream",
          "name": "stdout",
          "text": [
            "\n",
            "Number of all clusters:  2\n",
            "\n",
            "Noise data are:\n",
            "number of points in this cluster:  138\n",
            "\n",
            "Not Spam Emails are:\n",
            "number of points in this cluster:  5021\n",
            "\n",
            "Spam Emails are:\n",
            "number of points in this cluster:  13\n"
          ]
        }
      ]
    },
    {
      "cell_type": "code",
      "source": [
        "counter = 0\n",
        "for i in range(len(labels)):\n",
        "    if labels[i] == -1:\n",
        "        counter = counter + 1\n",
        "print(\"n noise points: \", counter)"
      ],
      "metadata": {
        "colab": {
          "base_uri": "https://localhost:8080/"
        },
        "id": "wBl_9F-00cgN",
        "outputId": "7477c553-6760-42ad-e351-08c5ea440590"
      },
      "execution_count": null,
      "outputs": [
        {
          "output_type": "stream",
          "name": "stdout",
          "text": [
            "n noise points:  138\n"
          ]
        }
      ]
    },
    {
      "cell_type": "code",
      "source": [
        "y_actual = list(data_set.iloc[:, -1])\n",
        "accuracy = sum([1 if y_actual[i] == labels[i] else 0 for i in range(len(labels))]) / len(labels) * 100\n",
        "print(\"\\naccuracy = \", accuracy, \" %\")"
      ],
      "metadata": {
        "colab": {
          "base_uri": "https://localhost:8080/"
        },
        "id": "sVjw89NM0dpb",
        "outputId": "e9fdcb5b-99b0-400b-e17e-1d337d6e6f11"
      },
      "execution_count": null,
      "outputs": [
        {
          "output_type": "stream",
          "name": "stdout",
          "text": [
            "\n",
            "accuracy =  70.08894044856922  %\n"
          ]
        }
      ]
    },
    {
      "cell_type": "code",
      "source": [
        "# built in DBSCAN\n",
        "db = DBSCAN(eps=3, min_samples=5).fit(transformed_data)\n",
        "labels_predict = db.labels_\n",
        "n_clusters = len(set(labels_predict))\n",
        "print('n_clusters_:', n_clusters)\n",
        "visualize(transformed_data, labels_predict, n_clusters)\n",
        "print(\"\\nNumber of all clusters: \", n_clusters)\n",
        "for c in range(-1, n_clusters - 1):\n",
        "    counter = 0\n",
        "    if c == -1:\n",
        "        print(\"\\nNoise data are:\")\n",
        "    elif c == 0:\n",
        "        print(\"\\nNot Spam Emails are:\")\n",
        "    else:\n",
        "        print(\"\\nSpam Emails are:\")\n",
        "    for key, value in enumerate(labels_predict):\n",
        "        if value == c:\n",
        "            # print(\"Email\", key + 1)\n",
        "            counter = counter + 1\n",
        "    print(\"number of points in this cluster: \", counter)\n",
        "acc = sum([1 if y_actual[i] == labels_predict[i] else 0 for i in range(len(labels_predict))]) / len(labels_predict) * 100\n",
        "print(\"\\naccuracy = \", acc, \" %\")"
      ],
      "metadata": {
        "colab": {
          "base_uri": "https://localhost:8080/",
          "height": 523
        },
        "id": "GMSmErNY0W7P",
        "outputId": "b99b187d-4887-42b2-aa70-dcf48982bb46"
      },
      "execution_count": null,
      "outputs": [
        {
          "output_type": "stream",
          "name": "stdout",
          "text": [
            "n_clusters_: 3\n"
          ]
        },
        {
          "output_type": "display_data",
          "data": {
            "image/png": "[encoded data removed]",
            "text/plain": [
              "<Figure size 432x288 with 1 Axes>"
            ]
          },
          "metadata": {
            "needs_background": "light"
          }
        },
        {
          "output_type": "stream",
          "name": "stdout",
          "text": [
            "\n",
            "Number of all clusters:  3\n",
            "\n",
            "Noise data are:\n",
            "number of points in this cluster:  138\n",
            "\n",
            "Not Spam Emails are:\n",
            "number of points in this cluster:  5021\n",
            "\n",
            "Spam Emails are:\n",
            "number of points in this cluster:  13\n",
            "\n",
            "accuracy =  70.08894044856922  %\n"
          ]
        }
      ]
    }
  ]
}